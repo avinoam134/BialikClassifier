{
 "cells": [
  {
   "cell_type": "code",
   "execution_count": null,
   "metadata": {},
   "outputs": [],
   "source": [
    "import json\n",
    "import pandas as pd\n",
    "from sklearn.model_selection import train_test_split\n",
    "from sklearn.feature_extraction.text import CountVectorizer\n",
    "from sklearn.naive_bayes import MultinomialNB\n",
    "from sklearn.pipeline import make_pipeline\n",
    "from sklearn.metrics import accuracy_score\n",
    "\n",
    "def classify_decade(year_str):\n",
    "    year = int(year_str)\n",
    "    val = -1\n",
    "    if year < 1900:\n",
    "        val = 0\n",
    "    elif 1900 <= year <= 1910:\n",
    "        val = 1\n",
    "    elif year > 1910:\n",
    "        val = 2\n",
    "    return val\n",
    "\n",
    "with open(\"Poems_Unparsed.JSON\", \"r\") as file:\n",
    "    data = json.load(file)\n",
    "poems_X = [poem[\"content\"] for poem in data if poem[\"year\"] != \"\"]\n",
    "poems_Y = [classify_decade(poem[\"year\"]) for poem in data if poem[\"year\"] != \"\"]\n",
    "\n",
    "X_train, X_test, y_train, y_test = train_test_split(poems_X, poems_Y, test_size=0.2, random_state=42)\n",
    "#train a model to predict the year of a poem based on its content:\n",
    "model = make_pipeline(CountVectorizer(), MultinomialNB())\n",
    "model.fit(X_train, y_train)\n",
    "y_pred = model.predict(X_test)\n",
    "# Print the accuracy score:\n",
    "print(f\"Accuracy: {accuracy_score(y_test, y_pred):.4f}\")\n",
    "\n"
   ]
  },
  {
   "cell_type": "code",
   "execution_count": 7,
   "metadata": {},
   "outputs": [],
   "source": [
    "import json\n",
    "with open(\"Poems_Unparsed.JSON\", \"r\") as file:\n",
    "    data = json.load(file)\n",
    "poems = [poem[\"content\"] for poem in data]\n",
    "names = [poem[\"poem\"] for poem in data]"
   ]
  },
  {
   "cell_type": "code",
   "execution_count": null,
   "metadata": {},
   "outputs": [],
   "source": [
    "#the following script shows how to use the model to predict the topics of a poem:\n",
    "\n",
    "from transformers import AutoTokenizer, AutoModelForSequenceClassification\n",
    "\n",
    "# Load the tokenizer and model\n",
    "tokenizer = AutoTokenizer.from_pretrained('onlplab/alephbert-base')\n",
    "model = AutoModelForSequenceClassification.from_pretrained('onlplab/alephbert-base')\n",
    "topics = ['מוות', 'צער', 'יהדות', 'ציונות', 'פטריוטיזם', 'בכי', 'אהבה','מלחמה', 'פוליטיקה', 'תקווה', 'נעורים']\n",
    "\n",
    "def extract_topics(poem):\n",
    "    # Tokenize the poem\n",
    "    inputs = tokenizer(poem, truncation=True, padding=True, return_tensors='pt')\n",
    "\n",
    "    # Forward pass through the model\n",
    "    outputs = model(**inputs)\n",
    "\n",
    "    # Get the predicted labels\n",
    "    predicted_labels = outputs.logits.argmax(dim=1)\n",
    "\n",
    "    # Return the topics related to the poem\n",
    "    return [topics[label] for label in predicted_labels]\n",
    "\n"
   ]
  },
  {
   "cell_type": "code",
   "execution_count": null,
   "metadata": {},
   "outputs": [],
   "source": [
    "from transformers import AutoTokenizer, AutoModelForSequenceClassification\n",
    "\n",
    "# Load the tokenizer and model\n",
    "tokenizer = AutoTokenizer.from_pretrained('onlplab/alephbert-base')\n",
    "model = AutoModelForSequenceClassification.from_pretrained('onlplab/alephbert-base')\n",
    "\n",
    "def extract_topics(poem):\n",
    "    # Tokenize the poem\n",
    "    inputs = tokenizer(poem, truncation=True, padding=True, return_tensors='pt')\n",
    "\n",
    "    # Forward pass through the model\n",
    "    outputs = model(**inputs)\n",
    "\n",
    "    # Get the predicted labels\n",
    "    predicted_labels = outputs.logits.argmax(dim=1)\n",
    "\n",
    "    # Return the topics related to the poem\n",
    "    return predicted_labels[0]"
   ]
  },
  {
   "cell_type": "code",
   "execution_count": null,
   "metadata": {},
   "outputs": [],
   "source": [
    "for poem,name in zip(poems,names):\n",
    "    print(f\"poem: {name}, topics: {extract_topics(poem)}\")"
   ]
  },
  {
   "cell_type": "code",
   "execution_count": null,
   "metadata": {},
   "outputs": [],
   "source": [
    "poems_early = [poems in data if poem[\"year\"] != \"\" and poem[\"year\"] < 1900]\n",
    "poems_mid = [poems in data if poem[\"year\"] != \"\" and poem[\"year\"] >= 1900 and poem[\"year\"] <= 1910]\n",
    "poems_late = [poems in data if poem[\"year\"] != \"\" and poem[\"year\"] > 1910]"
   ]
  }
 ],
 "metadata": {
  "kernelspec": {
   "display_name": "Python 3 (ipykernel)",
   "language": "python",
   "name": "python3"
  },
  "language_info": {
   "codemirror_mode": {
    "name": "ipython",
    "version": 3
   },
   "file_extension": ".py",
   "mimetype": "text/x-python",
   "name": "python",
   "nbconvert_exporter": "python",
   "pygments_lexer": "ipython3",
   "version": "3.10.12"
  }
 },
 "nbformat": 4,
 "nbformat_minor": 2
}
