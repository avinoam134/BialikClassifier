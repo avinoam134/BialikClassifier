{
  "cells": [
    {
      "cell_type": "code",
      "execution_count": 2,
      "metadata": {
        "id": "7PaDT1-ElT9L"
      },
      "outputs": [],
      "source": [
        "import json\n",
        "\n",
        "# Open the JSON file\n",
        "with open('./../Poems_And_Outputs/Poems_Unparsed.JSON', 'r', encoding='utf-8') as f:\n",
        "    data = json.load(f)\n",
        "\n",
        "songs = []\n",
        "labels = []\n",
        "\n",
        "for song in data:\n",
        "  if not song['year'] == \"\":\n",
        "    songs.append(song['content'])\n",
        "    if int(song['year']) < 1900:\n",
        "      labels.append(0)\n",
        "    elif int(song['year']) < 1910:\n",
        "      labels.append(1)\n",
        "    else:\n",
        "      labels.append(2)\n"
      ]
    },
    {
      "cell_type": "code",
      "execution_count": null,
      "metadata": {
        "colab": {
          "base_uri": "https://localhost:8080/"
        },
        "id": "yJGEKNhgEDWQ",
        "outputId": "87cfa4ca-a899-49c0-e550-d1802ecb115d"
      },
      "outputs": [
        {
          "name": "stdout",
          "output_type": "stream",
          "text": [
            "Epoch 1/10\n",
            "7/7 [==============================] - 9s 1s/step - loss: 1.0613 - accuracy: 0.3433 - val_loss: 1.1315 - val_accuracy: 0.2941\n",
            "Epoch 2/10\n",
            "7/7 [==============================] - 7s 1s/step - loss: 1.0302 - accuracy: 0.4478 - val_loss: 1.1789 - val_accuracy: 0.2941\n",
            "Epoch 3/10\n",
            "7/7 [==============================] - 7s 941ms/step - loss: 1.0106 - accuracy: 0.4478 - val_loss: 1.1594 - val_accuracy: 0.4118\n",
            "Epoch 4/10\n",
            "7/7 [==============================] - 7s 1s/step - loss: 1.0209 - accuracy: 0.4179 - val_loss: 1.1735 - val_accuracy: 0.4118\n",
            "Epoch 5/10\n",
            "7/7 [==============================] - 6s 930ms/step - loss: 1.0247 - accuracy: 0.4179 - val_loss: 1.1509 - val_accuracy: 0.2941\n",
            "Epoch 6/10\n",
            "7/7 [==============================] - 7s 974ms/step - loss: 1.0152 - accuracy: 0.4478 - val_loss: 1.1483 - val_accuracy: 0.2941\n",
            "Epoch 7/10\n",
            "7/7 [==============================] - 7s 1s/step - loss: 1.0134 - accuracy: 0.4478 - val_loss: 1.1664 - val_accuracy: 0.2941\n",
            "Epoch 8/10\n",
            "7/7 [==============================] - 7s 1s/step - loss: 1.0145 - accuracy: 0.4478 - val_loss: 1.1652 - val_accuracy: 0.2941\n",
            "Epoch 9/10\n",
            "7/7 [==============================] - 7s 1s/step - loss: 1.0132 - accuracy: 0.4478 - val_loss: 1.1726 - val_accuracy: 0.2941\n",
            "Epoch 10/10\n",
            "7/7 [==============================] - 8s 1s/step - loss: 1.0109 - accuracy: 0.4478 - val_loss: 1.1541 - val_accuracy: 0.4118\n",
            "1/1 [==============================] - 0s 279ms/step - loss: 0.9987 - accuracy: 0.4091\n",
            "Test Accuracy: 0.40909090638160706\n"
          ]
        }
      ],
      "source": [
        "import numpy as np\n",
        "import tensorflow as tf\n",
        "from tensorflow.keras.models import Sequential\n",
        "from tensorflow.keras.layers import Embedding, LSTM, Dense\n",
        "from sklearn.model_selection import train_test_split\n",
        "from sklearn.metrics import accuracy_score\n",
        "\n",
        "# Sample data\n",
        "hebrew_songs = songs\n",
        "\n",
        "decade_labels = labels\n",
        "\n",
        "# Tokenize words\n",
        "tokenizer = tf.keras.preprocessing.text.Tokenizer()\n",
        "tokenizer.fit_on_texts(hebrew_songs)\n",
        "sequences = tokenizer.texts_to_sequences(hebrew_songs)\n",
        "\n",
        "# Padding sequences\n",
        "max_len = max(len(seq) for seq in sequences)\n",
        "padded_sequences = tf.keras.preprocessing.sequence.pad_sequences(sequences, maxlen=max_len, padding='post')\n",
        "\n",
        "# Convert to numpy arrays\n",
        "X = np.array(padded_sequences)\n",
        "y = np.array(decade_labels)\n",
        "\n",
        "# Split data into train and test sets\n",
        "X_train, X_test, y_train, y_test = train_test_split(X, y, test_size=0.2, random_state=42)\n",
        "\n",
        "# RNN model\n",
        "model = Sequential([\n",
        "    Embedding(input_dim=len(tokenizer.word_index)+1, output_dim=200, input_length=max_len),\n",
        "    LSTM(128),\n",
        "    Dense(3, activation='softmax')  # Adjusted for 3 labels\n",
        "])\n",
        "\n",
        "model.compile(loss='sparse_categorical_crossentropy', optimizer='adam', metrics=['accuracy'])\n",
        "\n",
        "# Train the model\n",
        "model.fit(X_train, y_train, epochs=10, batch_size=10, validation_split=0.2)\n",
        "\n",
        "# Evaluate the model\n",
        "loss, accuracy = model.evaluate(X_test, y_test)\n",
        "print(\"Test Accuracy:\", accuracy)"
      ]
    }
  ],
  "metadata": {
    "colab": {
      "provenance": []
    },
    "kernelspec": {
      "display_name": "Python 3",
      "name": "python3"
    },
    "language_info": {
      "codemirror_mode": {
        "name": "ipython",
        "version": 3
      },
      "file_extension": ".py",
      "mimetype": "text/x-python",
      "name": "python",
      "nbconvert_exporter": "python",
      "pygments_lexer": "ipython3",
      "version": "3.11.5"
    }
  },
  "nbformat": 4,
  "nbformat_minor": 0
}
