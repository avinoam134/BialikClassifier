{
  "cells": [
    {
      "cell_type": "code",
      "execution_count": 1,
      "metadata": {
        "id": "WypYf1U8JBix"
      },
      "outputs": [
        {
          "name": "stdout",
          "output_type": "stream",
          "text": [
            "60\n"
          ]
        }
      ],
      "source": [
        "import json\n",
        "\n",
        "# Open the JSON file\n",
        "with open('./../Poems_And_Outputs/Poems_Unparsed.JSON', 'r', encoding='utf-8') as f:\n",
        "    data = json.load(f)\n",
        "\n",
        "datasongs = []\n",
        "datalabels = []\n",
        "eval_data = []\n",
        "eval_names = []\n",
        "\n",
        "for song in data:\n",
        "  if not song['year'] == \"\":\n",
        "    datasongs.append(song['content'])\n",
        "    if int(song['year']) < 1900:\n",
        "      datalabels.append(0)\n",
        "    elif int(song['year']) < 1909:\n",
        "      datalabels.append(1)\n",
        "    else:\n",
        "      datalabels.append(2)\n",
        "      \n",
        "  elif song[\"published\"]==\"no\":\n",
        "    eval_data.append(song['content'])\n",
        "    eval_names.append(song['poem'])\n",
        "\n",
        "print (len(eval_data))"
      ]
    },
    {
      "cell_type": "code",
      "execution_count": 2,
      "metadata": {
        "colab": {
          "base_uri": "https://localhost:8080/"
        },
        "id": "xsfY-LDYJa8T",
        "outputId": "2ff9f7c1-3327-417f-9841-f233cf52c2e6"
      },
      "outputs": [
        {
          "name": "stdout",
          "output_type": "stream",
          "text": [
            "Accuracy: 0.9090909090909091\n",
            "Final Accuracy: 0.9090909090909091\n"
          ]
        }
      ],
      "source": [
        "from sklearn.feature_extraction.text import CountVectorizer\n",
        "from sklearn.model_selection import train_test_split\n",
        "from sklearn.linear_model import LogisticRegression\n",
        "from sklearn.metrics import accuracy_score\n",
        "\n",
        "# Global hyperparameters\n",
        "TEST_SIZE = 0.2\n",
        "RANDOM_STATE = 50\n",
        "MAX_ITER = 1000\n",
        "\n",
        "def train_classifier(songs, labels):\n",
        "    # Splitting the data into train and test sets\n",
        "    X_train, X_test, y_train, y_test = train_test_split(songs, labels, test_size=TEST_SIZE, random_state=RANDOM_STATE)\n",
        "\n",
        "    # Vectorizing the text data\n",
        "    vectorizer = CountVectorizer()\n",
        "    X_train_vec = vectorizer.fit_transform(X_train)\n",
        "    X_test_vec = vectorizer.transform(X_test)\n",
        "\n",
        "    # Creating and training the classifier\n",
        "    classifier = LogisticRegression(max_iter=MAX_ITER)\n",
        "    classifier.fit(X_train_vec, y_train)\n",
        "\n",
        "    return classifier, vectorizer, X_test_vec, y_test\n",
        "\n",
        "def evaluate_classifier(classifier, X_test_vec, y_test):\n",
        "    # Making predictions\n",
        "    predictions = classifier.predict(X_test_vec)\n",
        "\n",
        "    # Evaluating the model\n",
        "    accuracy = accuracy_score(y_test, predictions)\n",
        "    print(\"Accuracy:\", accuracy)\n",
        "    return accuracy\n",
        "\n",
        "# Sample data\n",
        "songs = datasongs\n",
        "labels = datalabels\n",
        "\n",
        "# Train the classifier\n",
        "classifier, vectorizer, X_test_vec, y_test = train_classifier(songs, labels)\n",
        "\n",
        "# Evaluate the classifier\n",
        "accuracy = evaluate_classifier(classifier, X_test_vec, y_test)\n",
        "\n",
        "# Print accuracy\n",
        "print(\"Final Accuracy:\", accuracy)\n"
      ]
    },
    {
      "cell_type": "code",
      "execution_count": 3,
      "metadata": {},
      "outputs": [],
      "source": [
        "def labels_to_years(labels):\n",
        "    res = []\n",
        "    for label in labels:\n",
        "        if label == 0:\n",
        "            res.append(\"-1900\")\n",
        "        elif label == 1:\n",
        "            res.append(\"1900-1909\")\n",
        "        else:\n",
        "            res.append(\"1910+\")\n",
        "    return res"
      ]
    },
    {
      "cell_type": "code",
      "execution_count": 4,
      "metadata": {},
      "outputs": [],
      "source": [
        "predictions = labels_to_years(classifier.predict(vectorizer.transform(eval_data)))\n",
        "out = list(zip(eval_names, predictions))"
      ]
    },
    {
      "cell_type": "code",
      "execution_count": 6,
      "metadata": {},
      "outputs": [
        {
          "data": {
            "text/plain": [
              "[('אל האגדה', '-1900'),\n",
              " ('באהל התורה', '-1900'),\n",
              " ('אכילת אשם', '-1900'),\n",
              " ('אל המשורר', '1900-1909'),\n",
              " ('(נוסח ראשון של אל האגדה שפורסם)האגדה', '-1900'),\n",
              " ('ארץ שחולה כפנינים', '-1900'),\n",
              " ('אל הצפור (כתב יד)', '-1900'),\n",
              " ('המלאך העף', '1900-1909'),\n",
              " ('תענית צבור לעצירת הצדיק', '1900-1909'),\n",
              " ('חלום חזיון אביב', '-1900'),\n",
              " ('לכי דודה', '-1900'),\n",
              " ('מלכת שבא א', '-1900'),\n",
              " ('מלכת שבא ב', '-1900'),\n",
              " ('חלום בתוך חלום', '1900-1909'),\n",
              " ('עלי ערש רעננה', '1900-1909'),\n",
              " ('חושו רופאים', '-1900'),\n",
              " ('יעקב ועשו א', '-1900'),\n",
              " ('יעקב ועשו ב', '-1900'),\n",
              " ('יעקב ועשו ג', '-1900'),\n",
              " ('יעקב ועשו ד', '1900-1909'),\n",
              " ('על קבר אבות', '-1900'),\n",
              " ('הקיץ', '-1900'),\n",
              " (\"יש שיתגעגע הלב (ע'פ היינה)\", '1900-1909'),\n",
              " ('תאמי יונים', '-1900'),\n",
              " ('לא מגדות ירדן', '1900-1909'),\n",
              " ('בליל הרעש', '-1900'),\n",
              " ('עסק בנסתרות', '-1900'),\n",
              " ('הדעה החיטית', '-1900'),\n",
              " ('אשריך צעיר רודם', '1900-1909'),\n",
              " ('והיה ביום ההוא', '-1900')]"
            ]
          },
          "execution_count": 6,
          "metadata": {},
          "output_type": "execute_result"
        }
      ],
      "source": [
        "out[:30]"
      ]
    },
    {
      "cell_type": "code",
      "execution_count": 7,
      "metadata": {},
      "outputs": [
        {
          "data": {
            "text/plain": [
              "[(\"בכרכי ים (חלק ב' של השיר “ילדות”)\", '1900-1909'),\n",
              " ('מחוץ לעיר', '1900-1909'),\n",
              " ('אוי מלב בוקעת', '1900-1909'),\n",
              " ('אחים לצרה', '-1900'),\n",
              " ('חזק ואמץ', '1900-1909'),\n",
              " ('עומד ומפשפש', '1900-1909'),\n",
              " ('האופה והקטף', '1900-1909'),\n",
              " ('עבר הקיץ', '-1900'),\n",
              " ('אל תראו', '1900-1909'),\n",
              " (\" קטעים של 'שירי עם' א\", '1900-1909'),\n",
              " (\"קטעים של 'שירי עם' ב\", '1900-1909'),\n",
              " (\"קטעים של 'שירי עם' ג\", '1900-1909'),\n",
              " ('למי אוצרות קורח', '1900-1909'),\n",
              " ('התעוני חרבוני צהרים', '1900-1909'),\n",
              " ('משירי עם  1', '1900-1909'),\n",
              " ('משירי עם 2', '1900-1909'),\n",
              " ('משירי עם 3', '1900-1909'),\n",
              " ('משירי עם 4', '1900-1909'),\n",
              " ('משירי עם 5', '1900-1909'),\n",
              " ('אברם אברם', '1900-1909'),\n",
              " ('למנצח על הנגינות', '1900-1909'),\n",
              " ('דבורת הזהב', '1900-1909'),\n",
              " ('רסיסים א', '1900-1909'),\n",
              " ('רסיסים ב', '1900-1909'),\n",
              " ('רסיסים ג', '1900-1909'),\n",
              " ('רסיסים ד', '1900-1909'),\n",
              " ('רסיסים ה', '1900-1909'),\n",
              " ('רסיסים ו', '1900-1909'),\n",
              " ('רסיסים ז', '1900-1909'),\n",
              " ('אהה, לו ידעתי איך אשכם', '1900-1909')]"
            ]
          },
          "execution_count": 7,
          "metadata": {},
          "output_type": "execute_result"
        }
      ],
      "source": [
        "out[30:]"
      ]
    },
    {
      "cell_type": "code",
      "execution_count": null,
      "metadata": {},
      "outputs": [],
      "source": []
    }
  ],
  "metadata": {
    "colab": {
      "provenance": []
    },
    "kernelspec": {
      "display_name": "Python 3",
      "name": "python3"
    },
    "language_info": {
      "codemirror_mode": {
        "name": "ipython",
        "version": 3
      },
      "file_extension": ".py",
      "mimetype": "text/x-python",
      "name": "python",
      "nbconvert_exporter": "python",
      "pygments_lexer": "ipython3",
      "version": "3.11.5"
    }
  },
  "nbformat": 4,
  "nbformat_minor": 0
}
