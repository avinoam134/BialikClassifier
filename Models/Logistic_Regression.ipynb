{
  "cells": [
    {
      "cell_type": "code",
      "execution_count": null,
      "metadata": {
        "id": "WypYf1U8JBix"
      },
      "outputs": [],
      "source": [
        "import json\n",
        "\n",
        "# Open the JSON file\n",
        "with open('./../Poems_And_Outputs/Poems_Unparsed.JSON', 'r', encoding='utf-8') as f:\n",
        "    data = json.load(f)\n",
        "\n",
        "datasongs = []\n",
        "datalabels = []\n",
        "\n",
        "for song in data:\n",
        "  if not song['year'] == \"\":\n",
        "    datasongs.append(song['content'])\n",
        "    if int(song['year']) < 1900:\n",
        "      datalabels.append(0)\n",
        "    elif int(song['year']) < 1910:\n",
        "      datalabels.append(1)\n",
        "    else:\n",
        "      datalabels.append(2)\n"
      ]
    },
    {
      "cell_type": "code",
      "execution_count": null,
      "metadata": {
        "colab": {
          "base_uri": "https://localhost:8080/"
        },
        "id": "xsfY-LDYJa8T",
        "outputId": "2ff9f7c1-3327-417f-9841-f233cf52c2e6"
      },
      "outputs": [
        {
          "name": "stdout",
          "output_type": "stream",
          "text": [
            "Accuracy: 0.8636363636363636\n",
            "Final Accuracy: 0.8636363636363636\n"
          ]
        }
      ],
      "source": [
        "from sklearn.feature_extraction.text import CountVectorizer\n",
        "from sklearn.model_selection import train_test_split\n",
        "from sklearn.linear_model import LogisticRegression\n",
        "from sklearn.metrics import accuracy_score\n",
        "\n",
        "# Global hyperparameters\n",
        "TEST_SIZE = 0.2\n",
        "RANDOM_STATE = 50\n",
        "MAX_ITER = 1000\n",
        "\n",
        "def train_classifier(songs, labels):\n",
        "    # Splitting the data into train and test sets\n",
        "    X_train, X_test, y_train, y_test = train_test_split(songs, labels, test_size=TEST_SIZE, random_state=RANDOM_STATE)\n",
        "\n",
        "    # Vectorizing the text data\n",
        "    vectorizer = CountVectorizer()\n",
        "    X_train_vec = vectorizer.fit_transform(X_train)\n",
        "    X_test_vec = vectorizer.transform(X_test)\n",
        "\n",
        "    # Creating and training the classifier\n",
        "    classifier = LogisticRegression(max_iter=MAX_ITER)\n",
        "    classifier.fit(X_train_vec, y_train)\n",
        "\n",
        "    return classifier, vectorizer, X_test_vec, y_test\n",
        "\n",
        "def evaluate_classifier(classifier, X_test_vec, y_test):\n",
        "    # Making predictions\n",
        "    predictions = classifier.predict(X_test_vec)\n",
        "\n",
        "    # Evaluating the model\n",
        "    accuracy = accuracy_score(y_test, predictions)\n",
        "    print(\"Accuracy:\", accuracy)\n",
        "    return accuracy\n",
        "\n",
        "# Sample data\n",
        "songs = datasongs\n",
        "labels = datalabels\n",
        "\n",
        "# Train the classifier\n",
        "classifier, vectorizer, X_test_vec, y_test = train_classifier(songs, labels)\n",
        "\n",
        "# Evaluate the classifier\n",
        "accuracy = evaluate_classifier(classifier, X_test_vec, y_test)\n",
        "\n",
        "# Print accuracy\n",
        "print(\"Final Accuracy:\", accuracy)\n"
      ]
    }
  ],
  "metadata": {
    "colab": {
      "provenance": []
    },
    "kernelspec": {
      "display_name": "Python 3",
      "name": "python3"
    },
    "language_info": {
      "name": "python"
    }
  },
  "nbformat": 4,
  "nbformat_minor": 0
}
